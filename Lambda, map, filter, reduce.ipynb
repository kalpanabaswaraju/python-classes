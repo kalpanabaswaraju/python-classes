{
 "cells": [
  {
   "cell_type": "markdown",
   "id": "42d4e6dd",
   "metadata": {},
   "source": [
    "Built in functions:-"
   ]
  },
  {
   "cell_type": "code",
   "execution_count": 1,
   "id": "39bd3e89",
   "metadata": {},
   "outputs": [],
   "source": [
    "import math"
   ]
  },
  {
   "cell_type": "code",
   "execution_count": 3,
   "id": "58de4e74",
   "metadata": {},
   "outputs": [
    {
     "data": {
      "text/plain": [
       "(3, 4)"
      ]
     },
     "execution_count": 3,
     "metadata": {},
     "output_type": "execute_result"
    }
   ],
   "source": [
    "math.floor(3.2), math.ceil(3.2)"
   ]
  },
  {
   "cell_type": "code",
   "execution_count": 6,
   "id": "458cc512",
   "metadata": {},
   "outputs": [
    {
     "data": {
      "text/plain": [
       "3"
      ]
     },
     "execution_count": 6,
     "metadata": {},
     "output_type": "execute_result"
    }
   ],
   "source": [
    "math.floor(3)"
   ]
  },
  {
   "cell_type": "code",
   "execution_count": null,
   "id": "7d7cddbe",
   "metadata": {},
   "outputs": [],
   "source": []
  },
  {
   "cell_type": "code",
   "execution_count": 8,
   "id": "7919e358",
   "metadata": {},
   "outputs": [
    {
     "data": {
      "text/plain": [
       "6"
      ]
     },
     "execution_count": 8,
     "metadata": {},
     "output_type": "execute_result"
    }
   ],
   "source": [
    "sum([1, 2, 3])"
   ]
  },
  {
   "cell_type": "code",
   "execution_count": 9,
   "id": "2051a90e",
   "metadata": {},
   "outputs": [
    {
     "data": {
      "text/plain": [
       "6"
      ]
     },
     "execution_count": 9,
     "metadata": {},
     "output_type": "execute_result"
    }
   ],
   "source": [
    "sum((1,2,3))"
   ]
  },
  {
   "cell_type": "code",
   "execution_count": 11,
   "id": "b079eb83",
   "metadata": {},
   "outputs": [
    {
     "data": {
      "text/plain": [
       "3"
      ]
     },
     "execution_count": 11,
     "metadata": {},
     "output_type": "execute_result"
    }
   ],
   "source": [
    "sum({1: \"one\", 2: \"two\"}.keys()) # dict_keys"
   ]
  },
  {
   "cell_type": "code",
   "execution_count": 13,
   "id": "190366b8",
   "metadata": {},
   "outputs": [
    {
     "data": {
      "text/plain": [
       "3"
      ]
     },
     "execution_count": 13,
     "metadata": {},
     "output_type": "execute_result"
    }
   ],
   "source": [
    "sum({\"one\": 1, \"two\": 2}.values()) # dict_values"
   ]
  },
  {
   "cell_type": "code",
   "execution_count": 17,
   "id": "25832174",
   "metadata": {},
   "outputs": [],
   "source": [
    "# sum({1: \"one\", 2: \"two\"}.items())"
   ]
  },
  {
   "cell_type": "code",
   "execution_count": null,
   "id": "0a33dc7b",
   "metadata": {},
   "outputs": [],
   "source": []
  },
  {
   "cell_type": "markdown",
   "id": "c54f9b37",
   "metadata": {},
   "source": [
    "any, all:-"
   ]
  },
  {
   "cell_type": "code",
   "execution_count": 18,
   "id": "0580901c",
   "metadata": {},
   "outputs": [
    {
     "data": {
      "text/plain": [
       "False"
      ]
     },
     "execution_count": 18,
     "metadata": {},
     "output_type": "execute_result"
    }
   ],
   "source": [
    "l = [True, False, True]\n",
    "all(l) # return T if all elements in the sequence l are T, else F"
   ]
  },
  {
   "cell_type": "code",
   "execution_count": 19,
   "id": "46b9c134",
   "metadata": {},
   "outputs": [
    {
     "data": {
      "text/plain": [
       "True"
      ]
     },
     "execution_count": 19,
     "metadata": {},
     "output_type": "execute_result"
    }
   ],
   "source": [
    "l = [True, True, True]\n",
    "all(l) # return T if all elements in the sequence l are T, else F"
   ]
  },
  {
   "cell_type": "code",
   "execution_count": 20,
   "id": "5e0ea37f",
   "metadata": {},
   "outputs": [
    {
     "data": {
      "text/plain": [
       "True"
      ]
     },
     "execution_count": 20,
     "metadata": {},
     "output_type": "execute_result"
    }
   ],
   "source": [
    "l = [False, True, False]\n",
    "any(l) # return T if atleast one element in the sequence l is T, else F"
   ]
  },
  {
   "cell_type": "code",
   "execution_count": 21,
   "id": "1e4ece9e",
   "metadata": {},
   "outputs": [
    {
     "data": {
      "text/plain": [
       "False"
      ]
     },
     "execution_count": 21,
     "metadata": {},
     "output_type": "execute_result"
    }
   ],
   "source": [
    "l = [False, False, False]\n",
    "any(l) # return T if atleast one element in the sequence l is T, else F"
   ]
  },
  {
   "cell_type": "code",
   "execution_count": 23,
   "id": "be50d0ec",
   "metadata": {},
   "outputs": [
    {
     "data": {
      "text/plain": [
       "(False, True)"
      ]
     },
     "execution_count": 23,
     "metadata": {},
     "output_type": "execute_result"
    }
   ],
   "source": [
    "# Example:-\n",
    "# all -> see if all people are above 18 yrs of age\n",
    "# any -> see if there is atleast one adult\n",
    "\n",
    "ages = [13, 12, 52, 13, 31, 123]\n",
    "res = [x>=18 for x in ages]\n",
    "all(res), any(res)"
   ]
  },
  {
   "cell_type": "code",
   "execution_count": null,
   "id": "b9a36279",
   "metadata": {},
   "outputs": [],
   "source": []
  },
  {
   "cell_type": "markdown",
   "id": "278ff5cc",
   "metadata": {},
   "source": [
    "type, isinstance:-"
   ]
  },
  {
   "cell_type": "code",
   "execution_count": 25,
   "id": "923ea550",
   "metadata": {},
   "outputs": [
    {
     "data": {
      "text/plain": [
       "(int, float, list, dict, set)"
      ]
     },
     "execution_count": 25,
     "metadata": {},
     "output_type": "execute_result"
    }
   ],
   "source": [
    "type(4), type(3.4), type([]), type({}), type(set())"
   ]
  },
  {
   "cell_type": "code",
   "execution_count": null,
   "id": "ba3bb229",
   "metadata": {},
   "outputs": [],
   "source": [
    "# input a numeric value: int, float\n",
    "\n",
    "x <- 4 or 4.5\n",
    "if type(x) == 'int' or type(x) == 'float': # BAD\n",
    "    ...\n",
    "(OR)\n",
    "if type(x) in ['int', 'float']: # BAD \n",
    "\n",
    "isinstance(x, (int, float)) # GOOD\n",
    "    \n"
   ]
  },
  {
   "cell_type": "code",
   "execution_count": 28,
   "id": "9eed4e06",
   "metadata": {},
   "outputs": [
    {
     "data": {
      "text/plain": [
       "False"
      ]
     },
     "execution_count": 28,
     "metadata": {},
     "output_type": "execute_result"
    }
   ],
   "source": [
    "x = \"4.0\"\n",
    "isinstance(x, (int, float))"
   ]
  },
  {
   "cell_type": "code",
   "execution_count": null,
   "id": "3500d63b",
   "metadata": {},
   "outputs": [],
   "source": [
    "isinstance(x, Pet) # isinstance(x, Dog) true for both\n",
    "\n",
    "isinstance(x, Dog) # isinstance(x, Pet) - NO"
   ]
  },
  {
   "cell_type": "code",
   "execution_count": null,
   "id": "c8536bbf",
   "metadata": {},
   "outputs": [],
   "source": []
  },
  {
   "cell_type": "code",
   "execution_count": null,
   "id": "8cd52790",
   "metadata": {},
   "outputs": [],
   "source": []
  },
  {
   "cell_type": "markdown",
   "id": "157fa9e7",
   "metadata": {},
   "source": [
    "Lambda Functions:-"
   ]
  },
  {
   "cell_type": "code",
   "execution_count": null,
   "id": "14f40b2e",
   "metadata": {},
   "outputs": [],
   "source": [
    "* Lambda functions are inspiration from the field of Lambda calculus\n",
    "    * Alonzo Church\n",
    "* Lambda functions are features -> Python, Java\n",
    "  * Few prog lang like Haskell -> Lambda functions\n",
    "* They are used in very particular situations"
   ]
  },
  {
   "cell_type": "code",
   "execution_count": null,
   "id": "b4e27c8f",
   "metadata": {},
   "outputs": [],
   "source": [
    "* LF -> Lambda expressions, Anonymous Functions\n",
    "* These are functions without a name # (def mean(...))\n",
    "* They are generally used to perform simple, atomic ops\n",
    "* They are one liner functions\n",
    "* They are stateless"
   ]
  },
  {
   "cell_type": "markdown",
   "id": "5a2f9b32",
   "metadata": {},
   "source": [
    "Do's:-\n",
    "* One-liners only\n",
    "* LFs should atleast have 2 parameters or sufficient operation to be done on 1 parameter\n",
    "\n",
    "Dont's:-\n",
    "* Never assign lambda function to any variable\n",
    "* Never use LFs as wrapper over pre-defined functions"
   ]
  },
  {
   "cell_type": "code",
   "execution_count": 29,
   "id": "745cf5c8",
   "metadata": {},
   "outputs": [],
   "source": [
    "def square(v):\n",
    "#     print(id(v))\n",
    "    return v**2"
   ]
  },
  {
   "cell_type": "code",
   "execution_count": 32,
   "id": "de64ccf1",
   "metadata": {},
   "outputs": [
    {
     "data": {
      "text/plain": [
       "<function __main__.square(v)>"
      ]
     },
     "execution_count": 32,
     "metadata": {},
     "output_type": "execute_result"
    }
   ],
   "source": [
    "square"
   ]
  },
  {
   "cell_type": "code",
   "execution_count": 30,
   "id": "3aa78c24",
   "metadata": {},
   "outputs": [
    {
     "data": {
      "text/plain": [
       "25"
      ]
     },
     "execution_count": 30,
     "metadata": {},
     "output_type": "execute_result"
    }
   ],
   "source": [
    "square(5)"
   ]
  },
  {
   "cell_type": "code",
   "execution_count": 31,
   "id": "a2937629",
   "metadata": {},
   "outputs": [
    {
     "data": {
      "text/plain": [
       "<function __main__.<lambda>(x)>"
      ]
     },
     "execution_count": 31,
     "metadata": {},
     "output_type": "execute_result"
    }
   ],
   "source": [
    "lambda x: x**2 \n",
    "# lambda keyword\n",
    "# x -> Bound variable(s)\n",
    "# x**2 -> Body of the LF"
   ]
  },
  {
   "cell_type": "code",
   "execution_count": 33,
   "id": "ab3e7af8",
   "metadata": {},
   "outputs": [],
   "source": [
    "sq = lambda x: x**2 # Never do this, just for demonstration"
   ]
  },
  {
   "cell_type": "code",
   "execution_count": 34,
   "id": "d2efadc0",
   "metadata": {},
   "outputs": [
    {
     "data": {
      "text/plain": [
       "<function __main__.<lambda>(x)>"
      ]
     },
     "execution_count": 34,
     "metadata": {},
     "output_type": "execute_result"
    }
   ],
   "source": [
    "sq"
   ]
  },
  {
   "cell_type": "code",
   "execution_count": 43,
   "id": "4d70d5fd",
   "metadata": {},
   "outputs": [
    {
     "data": {
      "text/plain": [
       "25"
      ]
     },
     "execution_count": 43,
     "metadata": {},
     "output_type": "execute_result"
    }
   ],
   "source": [
    "res = (lambda z: z**2)(5)\n",
    "res"
   ]
  },
  {
   "cell_type": "code",
   "execution_count": 40,
   "id": "f46c83ad",
   "metadata": {},
   "outputs": [
    {
     "data": {
      "text/plain": [
       "25"
      ]
     },
     "execution_count": 40,
     "metadata": {},
     "output_type": "execute_result"
    }
   ],
   "source": [
    "sq(5)"
   ]
  },
  {
   "cell_type": "code",
   "execution_count": 41,
   "id": "bfdf8bb9",
   "metadata": {
    "collapsed": true
   },
   "outputs": [
    {
     "ename": "NameError",
     "evalue": "name 'z' is not defined",
     "output_type": "error",
     "traceback": [
      "\u001b[0;31m---------------------------------------------------------------------------\u001b[0m",
      "\u001b[0;31mNameError\u001b[0m                                 Traceback (most recent call last)",
      "\u001b[0;32m/var/folders/wx/bxxcv1hd2fn6pgpvlymttc680000gn/T/ipykernel_47315/1705769632.py\u001b[0m in \u001b[0;36m<module>\u001b[0;34m\u001b[0m\n\u001b[0;32m----> 1\u001b[0;31m \u001b[0mz\u001b[0m\u001b[0;34m\u001b[0m\u001b[0;34m\u001b[0m\u001b[0m\n\u001b[0m",
      "\u001b[0;31mNameError\u001b[0m: name 'z' is not defined"
     ]
    }
   ],
   "source": [
    "z"
   ]
  },
  {
   "cell_type": "code",
   "execution_count": null,
   "id": "800e4442",
   "metadata": {},
   "outputs": [],
   "source": []
  },
  {
   "cell_type": "code",
   "execution_count": 45,
   "id": "1fa78471",
   "metadata": {},
   "outputs": [
    {
     "data": {
      "text/plain": [
       "34"
      ]
     },
     "execution_count": 45,
     "metadata": {},
     "output_type": "execute_result"
    }
   ],
   "source": [
    "f = lambda x, y: x**2 + y**2 # multiple variables\n",
    "f(3, 5)"
   ]
  },
  {
   "cell_type": "code",
   "execution_count": 52,
   "id": "43d1f2e0",
   "metadata": {},
   "outputs": [
    {
     "data": {
      "text/plain": [
       "34"
      ]
     },
     "execution_count": 52,
     "metadata": {},
     "output_type": "execute_result"
    }
   ],
   "source": [
    "(lambda x, y: x**2 + y**2) (3,5)"
   ]
  },
  {
   "cell_type": "code",
   "execution_count": 49,
   "id": "3fad6710",
   "metadata": {},
   "outputs": [
    {
     "data": {
      "text/plain": [
       "3.5"
      ]
     },
     "execution_count": 49,
     "metadata": {},
     "output_type": "execute_result"
    }
   ],
   "source": [
    "f = lambda *args: sum(args)/len(args) # packing\n",
    "f(1, 2, 3, 4, 5, 6)"
   ]
  },
  {
   "cell_type": "code",
   "execution_count": 51,
   "id": "7e32764c",
   "metadata": {},
   "outputs": [
    {
     "data": {
      "text/plain": [
       "28"
      ]
     },
     "execution_count": 51,
     "metadata": {},
     "output_type": "execute_result"
    }
   ],
   "source": [
    "f = lambda l: len(l)*2 # list, tuple, set, dict, str\n",
    "# f([1, 2, 3])\n",
    "# f({1:\"one\", 2: \"two\"})\n",
    "f(\"hi how are you\")"
   ]
  },
  {
   "cell_type": "code",
   "execution_count": 50,
   "id": "6bfe5a3e",
   "metadata": {},
   "outputs": [
    {
     "data": {
      "text/plain": [
       "2.0"
      ]
     },
     "execution_count": 50,
     "metadata": {},
     "output_type": "execute_result"
    }
   ],
   "source": [
    "f = lambda **d: sum(d.values())/len(d)\n",
    "f(one=1, two=2, three=3)"
   ]
  },
  {
   "cell_type": "code",
   "execution_count": 54,
   "id": "cf384198",
   "metadata": {},
   "outputs": [
    {
     "data": {
      "text/plain": [
       "2.0"
      ]
     },
     "execution_count": 54,
     "metadata": {},
     "output_type": "execute_result"
    }
   ],
   "source": [
    "(lambda **d: sum(d.values())/len(d)) (one=1, two=2, three=3)"
   ]
  },
  {
   "cell_type": "code",
   "execution_count": 53,
   "id": "60eb0d72",
   "metadata": {},
   "outputs": [
    {
     "data": {
      "text/plain": [
       "2.0"
      ]
     },
     "execution_count": 53,
     "metadata": {},
     "output_type": "execute_result"
    }
   ],
   "source": [
    "def mean(**d):\n",
    "    return sum(d.values())/len(d)\n",
    "\n",
    "mean(one=1, two=2, three=3)"
   ]
  },
  {
   "cell_type": "code",
   "execution_count": null,
   "id": "f31e3d9c",
   "metadata": {},
   "outputs": [],
   "source": []
  },
  {
   "cell_type": "code",
   "execution_count": 56,
   "id": "0016f2e1",
   "metadata": {},
   "outputs": [
    {
     "name": "stdout",
     "output_type": "stream",
     "text": [
      "odd\n"
     ]
    }
   ],
   "source": [
    "cond_lf = lambda x, y: \"even\" if (x+y)%2 == 0 else \"odd\"\n",
    "op = cond_lf(3, 4)\n",
    "print(op)"
   ]
  },
  {
   "cell_type": "code",
   "execution_count": 57,
   "id": "8213fe64",
   "metadata": {},
   "outputs": [
    {
     "data": {
      "text/plain": [
       "48"
      ]
     },
     "execution_count": 57,
     "metadata": {},
     "output_type": "execute_result"
    }
   ],
   "source": [
    "def_lf = lambda x, y, z=3: x*2+y*3+z*4\n",
    "def_lf(1, 2, 10) # z = 10"
   ]
  },
  {
   "cell_type": "code",
   "execution_count": 58,
   "id": "ff128b49",
   "metadata": {},
   "outputs": [
    {
     "data": {
      "text/plain": [
       "20"
      ]
     },
     "execution_count": 58,
     "metadata": {},
     "output_type": "execute_result"
    }
   ],
   "source": [
    "def_lf(1, 2) # z=3"
   ]
  },
  {
   "cell_type": "code",
   "execution_count": null,
   "id": "de937bbc",
   "metadata": {},
   "outputs": [],
   "source": []
  },
  {
   "cell_type": "code",
   "execution_count": 59,
   "id": "f653ab89",
   "metadata": {},
   "outputs": [
    {
     "data": {
      "text/plain": [
       "17"
      ]
     },
     "execution_count": 59,
     "metadata": {},
     "output_type": "execute_result"
    }
   ],
   "source": [
    "def fun(value):\n",
    "    x = value**2\n",
    "    if x%5 < 3:\n",
    "        return 25\n",
    "    else:\n",
    "        return 10\n",
    "\n",
    "t = lambda x, my_fun: x + my_fun(x) # 7 + fun(7)\n",
    "t(7, fun)"
   ]
  },
  {
   "cell_type": "code",
   "execution_count": 61,
   "id": "afa70b13",
   "metadata": {},
   "outputs": [
    {
     "data": {
      "text/plain": [
       "(5, 5)"
      ]
     },
     "execution_count": 61,
     "metadata": {},
     "output_type": "execute_result"
    }
   ],
   "source": [
    "# BAD PRACTICE\n",
    "t = lambda x: abs(x)\n",
    "t(-5), abs(-5)"
   ]
  },
  {
   "cell_type": "code",
   "execution_count": 63,
   "id": "62f7d8d8",
   "metadata": {},
   "outputs": [
    {
     "ename": "ZeroDivisionError",
     "evalue": "division by zero",
     "output_type": "error",
     "traceback": [
      "\u001b[0;31m---------------------------------------------------------------------------\u001b[0m",
      "\u001b[0;31mZeroDivisionError\u001b[0m                         Traceback (most recent call last)",
      "\u001b[0;32m/var/folders/wx/bxxcv1hd2fn6pgpvlymttc680000gn/T/ipykernel_47315/3965662715.py\u001b[0m in \u001b[0;36m<module>\u001b[0;34m\u001b[0m\n\u001b[0;32m----> 1\u001b[0;31m \u001b[0;34m(\u001b[0m\u001b[0;32mlambda\u001b[0m \u001b[0mx\u001b[0m\u001b[0;34m:\u001b[0m \u001b[0mx\u001b[0m\u001b[0;34m/\u001b[0m\u001b[0;34m(\u001b[0m\u001b[0mx\u001b[0m\u001b[0;34m-\u001b[0m\u001b[0;36m2\u001b[0m\u001b[0;34m)\u001b[0m\u001b[0;34m)\u001b[0m\u001b[0;34m(\u001b[0m\u001b[0;36m2\u001b[0m\u001b[0;34m)\u001b[0m\u001b[0;34m\u001b[0m\u001b[0;34m\u001b[0m\u001b[0m\n\u001b[0m",
      "\u001b[0;32m/var/folders/wx/bxxcv1hd2fn6pgpvlymttc680000gn/T/ipykernel_47315/3965662715.py\u001b[0m in \u001b[0;36m<lambda>\u001b[0;34m(x)\u001b[0m\n\u001b[0;32m----> 1\u001b[0;31m \u001b[0;34m(\u001b[0m\u001b[0;32mlambda\u001b[0m \u001b[0mx\u001b[0m\u001b[0;34m:\u001b[0m \u001b[0mx\u001b[0m\u001b[0;34m/\u001b[0m\u001b[0;34m(\u001b[0m\u001b[0mx\u001b[0m\u001b[0;34m-\u001b[0m\u001b[0;36m2\u001b[0m\u001b[0;34m)\u001b[0m\u001b[0;34m)\u001b[0m\u001b[0;34m(\u001b[0m\u001b[0;36m2\u001b[0m\u001b[0;34m)\u001b[0m\u001b[0;34m\u001b[0m\u001b[0;34m\u001b[0m\u001b[0m\n\u001b[0m",
      "\u001b[0;31mZeroDivisionError\u001b[0m: division by zero"
     ]
    }
   ],
   "source": [
    "(lambda x: x/(x-2))(2)"
   ]
  },
  {
   "cell_type": "code",
   "execution_count": null,
   "id": "5e87eabc",
   "metadata": {},
   "outputs": [],
   "source": [
    "z = 25\n",
    "res = (lambda x: x**2)(z) # res = z**2"
   ]
  },
  {
   "cell_type": "code",
   "execution_count": null,
   "id": "b32e00e6",
   "metadata": {},
   "outputs": [],
   "source": [
    "Advantages:-\n",
    "* Saves time and memory\n",
    "* Crisp code (because its one liner) -> Less code less errors\n",
    "\n",
    "Disadvantages:-\n",
    "* Not reusable\n",
    "* One liner only\n",
    "* Not easy to debug"
   ]
  },
  {
   "cell_type": "code",
   "execution_count": null,
   "id": "8e9ea192",
   "metadata": {},
   "outputs": [],
   "source": []
  },
  {
   "cell_type": "code",
   "execution_count": null,
   "id": "d985b5b3",
   "metadata": {},
   "outputs": [],
   "source": [
    "map function:-\n",
    "* map -> perform an operation on every item of the iterable\n",
    "* Almost always map -> lambda functions\n",
    "* map op is a map object (a form of iterable)"
   ]
  },
  {
   "cell_type": "code",
   "execution_count": 104,
   "id": "0e085c05",
   "metadata": {},
   "outputs": [
    {
     "data": {
      "text/plain": [
       "[1, 4, 1, 441, 169, 256]"
      ]
     },
     "execution_count": 104,
     "metadata": {},
     "output_type": "execute_result"
    }
   ],
   "source": [
    "l = [1, 2, 1, 21, 13, 16]\n",
    "sq_l = [x**2 for x in l] # its difficult to nest list comprehension operations\n",
    "sq_l"
   ]
  },
  {
   "cell_type": "code",
   "execution_count": 105,
   "id": "d419981a",
   "metadata": {},
   "outputs": [],
   "source": [
    "r = map(lambda x: x**2, l) # map(lambda function, iterable)"
   ]
  },
  {
   "cell_type": "code",
   "execution_count": 106,
   "id": "524e5d63",
   "metadata": {},
   "outputs": [
    {
     "data": {
      "text/plain": [
       "(map, <map at 0x7fb62832bd90>)"
      ]
     },
     "execution_count": 106,
     "metadata": {},
     "output_type": "execute_result"
    }
   ],
   "source": [
    "type(r), r"
   ]
  },
  {
   "cell_type": "code",
   "execution_count": 107,
   "id": "5209821a",
   "metadata": {
    "collapsed": true
   },
   "outputs": [
    {
     "name": "stdout",
     "output_type": "stream",
     "text": [
      "1\n",
      "4\n",
      "1\n",
      "441\n",
      "169\n",
      "256\n"
     ]
    }
   ],
   "source": [
    "for x in r:\n",
    "    print(x)"
   ]
  },
  {
   "cell_type": "code",
   "execution_count": 68,
   "id": "182eb1a7",
   "metadata": {},
   "outputs": [
    {
     "data": {
      "text/plain": [
       "[1, 4, 1, 441, 169, 256]"
      ]
     },
     "execution_count": 68,
     "metadata": {},
     "output_type": "execute_result"
    }
   ],
   "source": [
    "list(r)"
   ]
  },
  {
   "cell_type": "code",
   "execution_count": 74,
   "id": "9050f873",
   "metadata": {},
   "outputs": [
    {
     "name": "stdout",
     "output_type": "stream",
     "text": [
      "hi\n"
     ]
    }
   ],
   "source": [
    "print(\"hi\")"
   ]
  },
  {
   "cell_type": "code",
   "execution_count": 75,
   "id": "0bf36f7e",
   "metadata": {},
   "outputs": [
    {
     "name": "stdout",
     "output_type": "stream",
     "text": [
      "hi\n"
     ]
    }
   ],
   "source": [
    "x = print # x = map\n",
    "x(\"hi\") # x(lf, l) # NO"
   ]
  },
  {
   "cell_type": "code",
   "execution_count": 71,
   "id": "c6fd9289",
   "metadata": {},
   "outputs": [],
   "source": [
    "l = [-1, 2, 1, -21, 13, -16]\n",
    "r = map(abs, l) # map(function, iterable)\n",
    "# map(lambda x: abs(x), l) -> NO NO"
   ]
  },
  {
   "cell_type": "code",
   "execution_count": 72,
   "id": "6f7d9a1e",
   "metadata": {},
   "outputs": [
    {
     "data": {
      "text/plain": [
       "[1, 2, 1, 21, 13, 16]"
      ]
     },
     "execution_count": 72,
     "metadata": {},
     "output_type": "execute_result"
    }
   ],
   "source": [
    "list(r)"
   ]
  },
  {
   "cell_type": "code",
   "execution_count": 73,
   "id": "05e63a02",
   "metadata": {},
   "outputs": [
    {
     "data": {
      "text/plain": [
       "[25, 10, 25, 25, 10, 25]"
      ]
     },
     "execution_count": 73,
     "metadata": {},
     "output_type": "execute_result"
    }
   ],
   "source": [
    "r = map(fun, l)\n",
    "list(r)"
   ]
  },
  {
   "cell_type": "code",
   "execution_count": null,
   "id": "6138b247",
   "metadata": {},
   "outputs": [],
   "source": [
    "Use cases of map:\n",
    "1. map -> LF\n",
    "    * It is limited by the lambda expression\n",
    "2. map -> predefined/userdefined function\n",
    "    * for ..\n",
    "        op = fun()\n",
    "        r.append(op)"
   ]
  },
  {
   "cell_type": "code",
   "execution_count": 76,
   "id": "5c7a6860",
   "metadata": {},
   "outputs": [
    {
     "data": {
      "text/plain": [
       "[25, 10, 25, 25, 10, 25]"
      ]
     },
     "execution_count": 76,
     "metadata": {},
     "output_type": "execute_result"
    }
   ],
   "source": [
    "list(map(fun, l))"
   ]
  },
  {
   "cell_type": "code",
   "execution_count": null,
   "id": "6ee16c6e",
   "metadata": {},
   "outputs": [],
   "source": []
  },
  {
   "cell_type": "code",
   "execution_count": null,
   "id": "c16a3056",
   "metadata": {},
   "outputs": [],
   "source": []
  },
  {
   "cell_type": "code",
   "execution_count": 81,
   "id": "f2e1bd4f",
   "metadata": {},
   "outputs": [
    {
     "name": "stdout",
     "output_type": "stream",
     "text": [
      "[-2, 4, 2, -42, 26, -32]\n",
      "[4, 16, 4, 1764, 676, 1024]\n"
     ]
    }
   ],
   "source": [
    "# list -> fun1 -> fun2\n",
    "def fun1(v):\n",
    "    return v*2\n",
    "\n",
    "def fun2(w):\n",
    "    return w**2\n",
    "\n",
    "l = [-1, 2, 1, -21, 13, -16]\n",
    "x = [fun1(v) for v in l]\n",
    "y = [fun2(w) for w in x]\n",
    "print(x)\n",
    "print(y)"
   ]
  },
  {
   "cell_type": "code",
   "execution_count": 82,
   "id": "ead0f88c",
   "metadata": {},
   "outputs": [
    {
     "data": {
      "text/plain": [
       "[4, 16, 4, 1764, 676, 1024]"
      ]
     },
     "execution_count": 82,
     "metadata": {},
     "output_type": "execute_result"
    }
   ],
   "source": [
    "# Advise: always code map inner -> outer (and so does the execution)\n",
    "y2 = list(map(fun2, map(fun1, l)))\n",
    "# map(fun1, l) -> map(fun2, map_x)\n",
    "y2"
   ]
  },
  {
   "cell_type": "code",
   "execution_count": 84,
   "id": "53bcdfec",
   "metadata": {},
   "outputs": [
    {
     "data": {
      "text/plain": [
       "[0, 2, 4, 6, 8, 10, 12]"
      ]
     },
     "execution_count": 84,
     "metadata": {},
     "output_type": "execute_result"
    }
   ],
   "source": [
    "list(map(fun1, range(7)))"
   ]
  },
  {
   "cell_type": "code",
   "execution_count": null,
   "id": "cdc938bf",
   "metadata": {},
   "outputs": [],
   "source": [
    "# filter \n",
    "# map -> filter -> map -> filter"
   ]
  },
  {
   "cell_type": "code",
   "execution_count": null,
   "id": "a4d6d887",
   "metadata": {},
   "outputs": [],
   "source": [
    "# if isinstance(.., (...)):\n",
    "#     ...\n",
    "# else:\n",
    "#     ..."
   ]
  },
  {
   "cell_type": "code",
   "execution_count": null,
   "id": "094db07e",
   "metadata": {},
   "outputs": [],
   "source": []
  },
  {
   "cell_type": "code",
   "execution_count": 88,
   "id": "9feae244",
   "metadata": {},
   "outputs": [],
   "source": [
    "l = [(1, 2), (3,1), (10, 5)]\n",
    "\n",
    "def last_element(x):\n",
    "    return x[-1]\n",
    "\n",
    "l.sort(key = lambda x: x[-1]) # circular sort around 5\n",
    "# l.sort(key=last_element)"
   ]
  },
  {
   "cell_type": "code",
   "execution_count": 89,
   "id": "4ed277ed",
   "metadata": {},
   "outputs": [
    {
     "data": {
      "text/plain": [
       "[(3, 1), (1, 2), (10, 5)]"
      ]
     },
     "execution_count": 89,
     "metadata": {},
     "output_type": "execute_result"
    }
   ],
   "source": [
    "l"
   ]
  },
  {
   "cell_type": "code",
   "execution_count": null,
   "id": "b4ffb642",
   "metadata": {},
   "outputs": [],
   "source": []
  },
  {
   "cell_type": "code",
   "execution_count": null,
   "id": "9c598b46",
   "metadata": {},
   "outputs": [],
   "source": [
    "is_prime -> T/F\n",
    "l = [...]\n",
    "res = list(map(is_prime, l))"
   ]
  },
  {
   "cell_type": "code",
   "execution_count": null,
   "id": "bcdfd219",
   "metadata": {},
   "outputs": [],
   "source": [
    "# task: "
   ]
  },
  {
   "cell_type": "code",
   "execution_count": null,
   "id": "fffc4f7a",
   "metadata": {},
   "outputs": [],
   "source": []
  },
  {
   "cell_type": "code",
   "execution_count": 90,
   "id": "91e10d36",
   "metadata": {},
   "outputs": [
    {
     "data": {
      "text/plain": [
       "'My name is \"Virat\"'"
      ]
     },
     "execution_count": 90,
     "metadata": {},
     "output_type": "execute_result"
    }
   ],
   "source": [
    "# '', \"\"\n",
    "msg = 'My name is \"Virat\"'\n",
    "msg"
   ]
  },
  {
   "cell_type": "code",
   "execution_count": 92,
   "id": "89b0d58a",
   "metadata": {},
   "outputs": [
    {
     "data": {
      "text/plain": [
       "[-2, 4, 2, -42, 26, -32]"
      ]
     },
     "execution_count": 92,
     "metadata": {},
     "output_type": "execute_result"
    }
   ],
   "source": [
    "def t(l):\n",
    "    return [fun1(v) for v in l]\n",
    "\n",
    "x = [-1, 2, 1, -21, 13, -16]\n",
    "t(x)"
   ]
  },
  {
   "cell_type": "code",
   "execution_count": 93,
   "id": "843854d5",
   "metadata": {},
   "outputs": [
    {
     "name": "stdout",
     "output_type": "stream",
     "text": [
      "Enter a number:10\n",
      "Enter a number:-10\n",
      "Enter a number:14\n",
      "['10', '-10', '14']\n"
     ]
    }
   ],
   "source": [
    "x = [input(\"Enter a number:\") for i in range(3)]\n",
    "print(x)"
   ]
  },
  {
   "cell_type": "code",
   "execution_count": null,
   "id": "0aa1a495",
   "metadata": {},
   "outputs": [],
   "source": []
  },
  {
   "cell_type": "code",
   "execution_count": null,
   "id": "472856bf",
   "metadata": {},
   "outputs": [],
   "source": [
    "map -> ip iterable of length l (=op)\n",
    "filter:-\n",
    "* ip is an iterable (len=l) and a condition\n",
    "  op is a iterable\n",
    "  op is of length [0, l]"
   ]
  },
  {
   "cell_type": "code",
   "execution_count": 108,
   "id": "a1b4562f",
   "metadata": {},
   "outputs": [],
   "source": [
    "x = [-1, 2, 1, -21, 13, -16]\n",
    "r = filter(lambda x: x<0, x) # filter(<function>, iterable)"
   ]
  },
  {
   "cell_type": "code",
   "execution_count": 109,
   "id": "99e2bf9f",
   "metadata": {},
   "outputs": [
    {
     "data": {
      "text/plain": [
       "<filter at 0x7fb628357b20>"
      ]
     },
     "execution_count": 109,
     "metadata": {},
     "output_type": "execute_result"
    }
   ],
   "source": [
    "r"
   ]
  },
  {
   "cell_type": "code",
   "execution_count": 110,
   "id": "29a13525",
   "metadata": {},
   "outputs": [
    {
     "data": {
      "text/plain": [
       "[-1, -21, -16]"
      ]
     },
     "execution_count": 110,
     "metadata": {},
     "output_type": "execute_result"
    }
   ],
   "source": [
    "list(r)"
   ]
  },
  {
   "cell_type": "code",
   "execution_count": null,
   "id": "1310b866",
   "metadata": {},
   "outputs": [],
   "source": []
  },
  {
   "cell_type": "code",
   "execution_count": null,
   "id": "e5c5d1e3",
   "metadata": {},
   "outputs": [],
   "source": []
  },
  {
   "cell_type": "code",
   "execution_count": null,
   "id": "46f1e9b7",
   "metadata": {},
   "outputs": [],
   "source": [
    "Sequence (Iterable) - Can be ordered or unordered 1, 2, 3, 4 ||| 3,4,1,2\n",
    "Series - Ordered"
   ]
  },
  {
   "cell_type": "code",
   "execution_count": 118,
   "id": "7212b566",
   "metadata": {},
   "outputs": [
    {
     "data": {
      "text/plain": [
       "[-1, 2, 1, -21, 13, 13, -16]"
      ]
     },
     "execution_count": 118,
     "metadata": {},
     "output_type": "execute_result"
    }
   ],
   "source": [
    "x = [-1, 2, 1, 0, -21, 13, \"\", [], {}, 13, None, -16] # iterable -> a generic term for L,T,S,D,DK,DV\n",
    "r = list(filter(None, x)) # if the value in x is \"true\" value\n",
    "r"
   ]
  },
  {
   "cell_type": "code",
   "execution_count": null,
   "id": "9b80e584",
   "metadata": {},
   "outputs": [],
   "source": []
  },
  {
   "cell_type": "code",
   "execution_count": 121,
   "id": "fcd07d61",
   "metadata": {},
   "outputs": [
    {
     "data": {
      "text/plain": [
       "[30, 14, 44, 26]"
      ]
     },
     "execution_count": 121,
     "metadata": {},
     "output_type": "execute_result"
    }
   ],
   "source": [
    "l = [12, 30, 13, 14, 44, 26]\n",
    "x = list(filter(lambda x: (x**2)%5 < 3, l))\n",
    "x # subset of l"
   ]
  },
  {
   "cell_type": "code",
   "execution_count": null,
   "id": "b0701ddb",
   "metadata": {},
   "outputs": [],
   "source": []
  },
  {
   "cell_type": "code",
   "execution_count": null,
   "id": "d969dd2f",
   "metadata": {},
   "outputs": [],
   "source": [
    "reduce:-\n",
    "* takes in an iterable and an operation\n",
    "  then in pairs of elements (of the iterable) it performs the operation\n",
    "\n",
    "l = [12, 30, 13, 14, 44, 26] # math operation\n",
    "* Unordered operation - eg sum, product, sum_of_squares\n",
    "    Order does not matter\n",
    "    \n",
    "* Ordered operation - eg subtraction, power\n",
    "(12-30-13-...) # diff result"
   ]
  },
  {
   "cell_type": "code",
   "execution_count": null,
   "id": "c7084317",
   "metadata": {},
   "outputs": [],
   "source": [
    "(operation, iterable) -> reduce -> result (aything - non-sequence types or \n",
    "                                                     str or \n",
    "                                                     sequence types)"
   ]
  },
  {
   "cell_type": "code",
   "execution_count": 123,
   "id": "cbdd0bc7",
   "metadata": {},
   "outputs": [],
   "source": [
    "from functools import reduce"
   ]
  },
  {
   "cell_type": "code",
   "execution_count": 124,
   "id": "7ecaf74e",
   "metadata": {},
   "outputs": [],
   "source": [
    "l = [12, 30, 13, 14, 44, 26]\n",
    "x = reduce(lambda x,y: x+y, l)\n",
    "\n",
    "Order of LF (say f) executed:-\n",
    "# 12, 30, 13, 14, 44, 26\n",
    "a1 = f(12, 30)\n",
    "a2 = f(a1, 13) # f(13, a1) -> NO NO\n",
    "a3 = f(a2, 14) ..."
   ]
  },
  {
   "cell_type": "code",
   "execution_count": null,
   "id": "76b448ee",
   "metadata": {},
   "outputs": [],
   "source": [
    "# l = [12, 30, 13, 14, 44, 26]\n",
    "# x = reduce(lambda x,y,z: x+y+z, l)\n",
    "\n",
    "# Order of LF (say f) executed:-\n",
    "# # 12, 30, 13, 14, 44, 26\n",
    "# a1 = f(12, 30, 13)\n",
    "# a2 = f(a1, 14, 44) # f(13, a1) -> NO NO\n",
    "# a3 = f(a2, 26, ??) ..."
   ]
  },
  {
   "cell_type": "code",
   "execution_count": 126,
   "id": "3c95de1b",
   "metadata": {},
   "outputs": [
    {
     "data": {
      "text/plain": [
       "(139, 139)"
      ]
     },
     "execution_count": 126,
     "metadata": {},
     "output_type": "execute_result"
    }
   ],
   "source": [
    "x, sum(l)"
   ]
  },
  {
   "cell_type": "code",
   "execution_count": 128,
   "id": "1efcb8e4",
   "metadata": {},
   "outputs": [
    {
     "data": {
      "text/plain": [
       "45"
      ]
     },
     "execution_count": 128,
     "metadata": {},
     "output_type": "execute_result"
    }
   ],
   "source": [
    "l = [1, 3, 5, 4, 6, 4]\n",
    "x = reduce(lambda x,y: x+2*y, l) # unoreded -> +,* (unordered)\n",
    "x\n",
    "\n",
    "# 1+2*3 -> 7\n",
    "# 7+2*5 -> 17\n",
    "# 17+2*4 -> 25\n",
    "# 25+2*4 -> 33\n",
    "# 33+2*6 -> 45"
   ]
  },
  {
   "cell_type": "code",
   "execution_count": 129,
   "id": "f69041a9",
   "metadata": {},
   "outputs": [
    {
     "data": {
      "text/plain": [
       "-21"
      ]
     },
     "execution_count": 129,
     "metadata": {},
     "output_type": "execute_result"
    }
   ],
   "source": [
    "l = [1, 3, 5, 4, 6, 4]\n",
    "x = reduce(lambda x,y: x-y, l) # Ordered operation\n",
    "x"
   ]
  },
  {
   "cell_type": "code",
   "execution_count": 130,
   "id": "b8cfcfaf",
   "metadata": {},
   "outputs": [
    {
     "data": {
      "text/plain": [
       "'abcd'"
      ]
     },
     "execution_count": 130,
     "metadata": {},
     "output_type": "execute_result"
    }
   ],
   "source": [
    "l = [\"a\", \"b\", \"c\", \"d\"]\n",
    "x = reduce(lambda x,y: x+y, l)\n",
    "x"
   ]
  },
  {
   "cell_type": "code",
   "execution_count": 136,
   "id": "6d6b4a4b",
   "metadata": {},
   "outputs": [
    {
     "data": {
      "text/plain": [
       "['a', 'b', 'c', 'd', 'a', 'b', 'c', 'd', 'a', 'b', 'c', 'd']"
      ]
     },
     "execution_count": 136,
     "metadata": {},
     "output_type": "execute_result"
    }
   ],
   "source": [
    "l = [[\"a\", \"b\", \"c\", \"d\"], [\"a\", \"b\", \"c\", \"d\"], [\"a\", \"b\", \"c\", \"d\"]]\n",
    "x = reduce(lambda x, y: x+y, l)\n",
    "x"
   ]
  },
  {
   "cell_type": "code",
   "execution_count": null,
   "id": "861efa6c",
   "metadata": {},
   "outputs": [],
   "source": []
  },
  {
   "cell_type": "code",
   "execution_count": 154,
   "id": "622139a4",
   "metadata": {},
   "outputs": [
    {
     "name": "stdout",
     "output_type": "stream",
     "text": [
      "['VIRATVIRAT', 'DHONIDHONI', 'ABCDABCD', 'WHJBNWHJBN', 'XYZXYZ']\n",
      "['VIRATVIRAT', 'DHONIDHONI', 'ABCDABCD']\n",
      "VIRATVIRATDHONIDHONIABCDABCD\n"
     ]
    },
    {
     "data": {
      "text/plain": [
       "'VIRATVIRATDHONIDHONIABCDABCD'"
      ]
     },
     "execution_count": 154,
     "metadata": {},
     "output_type": "execute_result"
    }
   ],
   "source": [
    "# map - filter - reduce\n",
    "# task: strings\n",
    "#         map -> upper case and double them\n",
    "#         filter -> atleast two vowels >= 2 (T) otherwise (F)\n",
    "#         reduce -> concat\n",
    "\n",
    "v = \"AEIOU\"\n",
    "x = [\"virat\", \"dhoni\", \"abcd\", \"whjbn\", \"xyz\",]\n",
    "# a1 = list(map(lambda x: x.upper()*2, x))\n",
    "# print(a1)\n",
    "# a2 = list(filter(lambda y: len(set.intersection(set(y), set(v))) >= 1, a1))\n",
    "# print(a2)\n",
    "# a3 = reduce(lambda p,q: p+q, a2)\n",
    "# print(a3)\n",
    "\n",
    "\n",
    "res = reduce(lambda p,q: p+q, \n",
    "             filter(lambda y: len(set.intersection(set(y), set(v))) >= 1,\n",
    "             map(lambda x: x.upper()*2, x)))\n",
    "res"
   ]
  },
  {
   "cell_type": "code",
   "execution_count": 155,
   "id": "ff26f7fe",
   "metadata": {},
   "outputs": [],
   "source": [
    "# x = \"VIRAT\"\n",
    "# # x = \"XYZXYZ\"\n",
    "# v = \"AEIOU\"\n",
    "# r = set.intersection(set(x), set(v)) # 1 vowel -> x*2, v -> 2 vowels\n",
    "# len(r)"
   ]
  },
  {
   "cell_type": "code",
   "execution_count": null,
   "id": "0148c4f2",
   "metadata": {},
   "outputs": [],
   "source": []
  },
  {
   "cell_type": "code",
   "execution_count": null,
   "id": "bdb9f60b",
   "metadata": {},
   "outputs": [],
   "source": []
  },
  {
   "cell_type": "code",
   "execution_count": 156,
   "id": "f5db8dea",
   "metadata": {},
   "outputs": [
    {
     "data": {
      "text/plain": [
       "(1, 2, 3)"
      ]
     },
     "execution_count": 156,
     "metadata": {},
     "output_type": "execute_result"
    }
   ],
   "source": [
    "l = [1, 2, 3]\n",
    "a, b, c = l\n",
    "a, b, c"
   ]
  },
  {
   "cell_type": "code",
   "execution_count": 165,
   "id": "92bde895",
   "metadata": {},
   "outputs": [],
   "source": [
    "l = list(range(0, 10))\n",
    "# a, b, c = l # UHHH"
   ]
  },
  {
   "cell_type": "code",
   "execution_count": 166,
   "id": "92f79326",
   "metadata": {},
   "outputs": [],
   "source": [
    "a, b, *c = l"
   ]
  },
  {
   "cell_type": "code",
   "execution_count": 167,
   "id": "b150674f",
   "metadata": {},
   "outputs": [
    {
     "data": {
      "text/plain": [
       "(0, 1, [2, 3, 4, 5, 6, 7, 8, 9])"
      ]
     },
     "execution_count": 167,
     "metadata": {},
     "output_type": "execute_result"
    }
   ],
   "source": [
    "a, b, c"
   ]
  },
  {
   "cell_type": "code",
   "execution_count": 160,
   "id": "c05f169c",
   "metadata": {},
   "outputs": [
    {
     "data": {
      "text/plain": [
       "(0, [1, 2, 3, 4, 5, 6, 7, 8], 9)"
      ]
     },
     "execution_count": 160,
     "metadata": {},
     "output_type": "execute_result"
    }
   ],
   "source": [
    "a, *b, c = l\n",
    "a, b, c"
   ]
  },
  {
   "cell_type": "code",
   "execution_count": 161,
   "id": "135a2f99",
   "metadata": {},
   "outputs": [
    {
     "data": {
      "text/plain": [
       "([0, 1, 2, 3, 4, 5, 6, 7], 8, 9)"
      ]
     },
     "execution_count": 161,
     "metadata": {},
     "output_type": "execute_result"
    }
   ],
   "source": [
    "*a, b, c = l\n",
    "a, b, c"
   ]
  },
  {
   "cell_type": "code",
   "execution_count": null,
   "id": "3faa2555",
   "metadata": {},
   "outputs": [],
   "source": []
  },
  {
   "cell_type": "code",
   "execution_count": 168,
   "id": "8a20112e",
   "metadata": {},
   "outputs": [
    {
     "data": {
      "text/plain": [
       "(1, 2)"
      ]
     },
     "execution_count": 168,
     "metadata": {},
     "output_type": "execute_result"
    }
   ],
   "source": [
    "l = [1, 2, 3]\n",
    "a, b, _ = l\n",
    "a, b"
   ]
  },
  {
   "cell_type": "code",
   "execution_count": 169,
   "id": "eab47385",
   "metadata": {},
   "outputs": [
    {
     "data": {
      "text/plain": [
       "(1, 3)"
      ]
     },
     "execution_count": 169,
     "metadata": {},
     "output_type": "execute_result"
    }
   ],
   "source": [
    "l = [1, 2, 3]\n",
    "a, _, b = l\n",
    "a, b"
   ]
  },
  {
   "cell_type": "code",
   "execution_count": 171,
   "id": "44d29e82",
   "metadata": {},
   "outputs": [
    {
     "data": {
      "text/plain": [
       "(0, 9)"
      ]
     },
     "execution_count": 171,
     "metadata": {},
     "output_type": "execute_result"
    }
   ],
   "source": [
    "l = list(range(0, 10))\n",
    "a, *_, c = l\n",
    "a, c"
   ]
  },
  {
   "cell_type": "code",
   "execution_count": null,
   "id": "6f16a5d8",
   "metadata": {},
   "outputs": [],
   "source": []
  },
  {
   "cell_type": "code",
   "execution_count": 172,
   "id": "93395108",
   "metadata": {
    "collapsed": true
   },
   "outputs": [
    {
     "ename": "ValueError",
     "evalue": "not enough values to unpack (expected 4, got 3)",
     "output_type": "error",
     "traceback": [
      "\u001b[0;31m---------------------------------------------------------------------------\u001b[0m",
      "\u001b[0;31mValueError\u001b[0m                                Traceback (most recent call last)",
      "\u001b[0;32m/var/folders/wx/bxxcv1hd2fn6pgpvlymttc680000gn/T/ipykernel_47315/2193838316.py\u001b[0m in \u001b[0;36m<module>\u001b[0;34m\u001b[0m\n\u001b[1;32m      1\u001b[0m \u001b[0ml\u001b[0m \u001b[0;34m=\u001b[0m \u001b[0;34m[\u001b[0m\u001b[0;36m1\u001b[0m\u001b[0;34m,\u001b[0m \u001b[0;36m2\u001b[0m\u001b[0;34m,\u001b[0m \u001b[0;36m3\u001b[0m\u001b[0;34m]\u001b[0m\u001b[0;34m\u001b[0m\u001b[0;34m\u001b[0m\u001b[0m\n\u001b[0;32m----> 2\u001b[0;31m \u001b[0ma\u001b[0m\u001b[0;34m,\u001b[0m \u001b[0mb\u001b[0m\u001b[0;34m,\u001b[0m \u001b[0mc\u001b[0m\u001b[0;34m,\u001b[0m \u001b[0md\u001b[0m \u001b[0;34m=\u001b[0m \u001b[0ml\u001b[0m\u001b[0;34m\u001b[0m\u001b[0;34m\u001b[0m\u001b[0m\n\u001b[0m",
      "\u001b[0;31mValueError\u001b[0m: not enough values to unpack (expected 4, got 3)"
     ]
    }
   ],
   "source": [
    "l = [1, 2, 3]\n",
    "a, b, c, d = l # UHH"
   ]
  },
  {
   "cell_type": "code",
   "execution_count": 173,
   "id": "72636505",
   "metadata": {},
   "outputs": [],
   "source": [
    "l = [1, 2, 3] # coming from some function dynamic size\n",
    "a, *b = l"
   ]
  },
  {
   "cell_type": "code",
   "execution_count": 174,
   "id": "1019419f",
   "metadata": {},
   "outputs": [],
   "source": [
    "l = [1, 2, 3]\n",
    "a, b, c, *d = l"
   ]
  },
  {
   "cell_type": "code",
   "execution_count": 175,
   "id": "5666aad3",
   "metadata": {},
   "outputs": [
    {
     "data": {
      "text/plain": [
       "(1, 2, 3, [])"
      ]
     },
     "execution_count": 175,
     "metadata": {},
     "output_type": "execute_result"
    }
   ],
   "source": [
    "a, b, c, d"
   ]
  },
  {
   "cell_type": "code",
   "execution_count": null,
   "id": "b3b821d2",
   "metadata": {},
   "outputs": [],
   "source": [
    "# Can functions return dynamic number of results? Yes (if,elif,else)\n",
    "# Should functions return dynamic number of results? Ideally no, but you cant avoid it\n",
    "\n",
    "def f(...): # 5 inputs\n",
    "    if (....): # basic assertions\n",
    "        return None\n",
    "    \n",
    "    ...\n",
    "    ...\n",
    "    ...\n",
    "     # each flow returns different number of values\n",
    "        \n",
    "One solution:-\n",
    "* Pack all return values and return a list \n",
    "    (unified -> 1 list -> at the core level -> prob remains) -> NO NO\n",
    "* Put the whole thing in a dictionary -> access by keys -> Not a great solution\n",
    "* Break the function into multiple functions? BAD\n",
    "    * (unified -> 1 function -> at the core level -> prob remains) -> NO NO\n",
    "    * I will end up writing mini functions in if-else (a lot of functions)\n",
    "* Always return constant number of return values? BAD \n",
    "    max no. of return values = 7\n",
    "    None, None, ....\n",
    "\n",
    "    elif ...\n",
    "        return x1, .., x5, None, None\n",
    "\n",
    "*************************\n",
    "VERDICT: You cannot avoid it.\n",
    "Remedy: Keep it in control (1, 2, 3, .., 7) - (None, 2 values) - CHOOSE A GRANULARITY\n",
    "*************************"
   ]
  },
  {
   "cell_type": "code",
   "execution_count": null,
   "id": "1859dd95",
   "metadata": {},
   "outputs": [],
   "source": []
  },
  {
   "cell_type": "code",
   "execution_count": 185,
   "id": "383c83aa",
   "metadata": {},
   "outputs": [
    {
     "data": {
      "text/plain": [
       "({'hi': 'bye'}, dict)"
      ]
     },
     "execution_count": 185,
     "metadata": {},
     "output_type": "execute_result"
    }
   ],
   "source": [
    "# combination of dtypes <- input(...) # Form\n",
    "\n",
    "x = eval(\"{'hi': 'bye'}\") \n",
    "x, type(x)"
   ]
  },
  {
   "cell_type": "code",
   "execution_count": null,
   "id": "40b7eca1",
   "metadata": {},
   "outputs": [],
   "source": [
    "* eval is able to recognize the data type from value, and extract the value\n",
    "* NEVER USE eval EVER"
   ]
  },
  {
   "cell_type": "code",
   "execution_count": 188,
   "id": "eb841a5c",
   "metadata": {
    "collapsed": true
   },
   "outputs": [
    {
     "name": "stdout",
     "output_type": "stream",
     "text": [
      "5 <class 'int'>\n",
      "5.3 <class 'float'>\n",
      "abc <class 'str'>\n",
      "[1, 2, 3] <class 'list'>\n",
      "{1, 3, 4} <class 'set'>\n",
      "{'hi': 'bye'} <class 'dict'>\n"
     ]
    }
   ],
   "source": [
    "def f(s):\n",
    "    print(eval(s), type(eval(s)))\n",
    "\n",
    "f(\"5\")\n",
    "f(\"5.3\")\n",
    "f(\"'abc'\")\n",
    "f(\"[1, 2, 3]\")\n",
    "f(\"{1, 3, 4}\")\n",
    "f('{\"hi\": \"bye\"}')"
   ]
  },
  {
   "cell_type": "code",
   "execution_count": 189,
   "id": "d5e6fc22",
   "metadata": {},
   "outputs": [
    {
     "name": "stdout",
     "output_type": "stream",
     "text": [
      "Hey\n"
     ]
    }
   ],
   "source": [
    "eval(\"print('Hey')\") # THREAT"
   ]
  },
  {
   "cell_type": "code",
   "execution_count": 192,
   "id": "a44eaa6e",
   "metadata": {},
   "outputs": [
    {
     "name": "stdout",
     "output_type": "stream",
     "text": [
      "Enter a value:-1\n"
     ]
    }
   ],
   "source": [
    "x = eval(input(\"Enter a value:\"))"
   ]
  },
  {
   "cell_type": "code",
   "execution_count": 193,
   "id": "0b3700ec",
   "metadata": {},
   "outputs": [
    {
     "data": {
      "text/plain": [
       "(-1, int)"
      ]
     },
     "execution_count": 193,
     "metadata": {},
     "output_type": "execute_result"
    }
   ],
   "source": [
    "x, type(x)"
   ]
  },
  {
   "cell_type": "code",
   "execution_count": null,
   "id": "d282fdb2",
   "metadata": {},
   "outputs": [],
   "source": []
  },
  {
   "cell_type": "code",
   "execution_count": 194,
   "id": "963e8e22",
   "metadata": {},
   "outputs": [],
   "source": [
    "import ast # Abstract Syntax Tree"
   ]
  },
  {
   "cell_type": "code",
   "execution_count": 195,
   "id": "c5f3dc5a",
   "metadata": {},
   "outputs": [
    {
     "name": "stdout",
     "output_type": "stream",
     "text": [
      "Enter a value:5\n"
     ]
    }
   ],
   "source": [
    "x = ast.literal_eval(input(\"Enter a value:\")) # Safer way"
   ]
  },
  {
   "cell_type": "code",
   "execution_count": 196,
   "id": "c19c93c4",
   "metadata": {},
   "outputs": [
    {
     "data": {
      "text/plain": [
       "(5, int)"
      ]
     },
     "execution_count": 196,
     "metadata": {},
     "output_type": "execute_result"
    }
   ],
   "source": [
    "x, type(x)"
   ]
  },
  {
   "cell_type": "code",
   "execution_count": 197,
   "id": "59d234d3",
   "metadata": {
    "collapsed": true
   },
   "outputs": [
    {
     "ename": "ValueError",
     "evalue": "malformed node or string: <ast.Call object at 0x7fb62abeca60>",
     "output_type": "error",
     "traceback": [
      "\u001b[0;31m---------------------------------------------------------------------------\u001b[0m",
      "\u001b[0;31mValueError\u001b[0m                                Traceback (most recent call last)",
      "\u001b[0;32m/var/folders/wx/bxxcv1hd2fn6pgpvlymttc680000gn/T/ipykernel_47315/3188409463.py\u001b[0m in \u001b[0;36m<module>\u001b[0;34m\u001b[0m\n\u001b[0;32m----> 1\u001b[0;31m \u001b[0mast\u001b[0m\u001b[0;34m.\u001b[0m\u001b[0mliteral_eval\u001b[0m\u001b[0;34m(\u001b[0m\u001b[0;34m\"print('hi')\"\u001b[0m\u001b[0;34m)\u001b[0m\u001b[0;34m\u001b[0m\u001b[0;34m\u001b[0m\u001b[0m\n\u001b[0m",
      "\u001b[0;32m~/miniconda3/lib/python3.9/ast.py\u001b[0m in \u001b[0;36mliteral_eval\u001b[0;34m(node_or_string)\u001b[0m\n\u001b[1;32m    103\u001b[0m                     \u001b[0;32mreturn\u001b[0m \u001b[0mleft\u001b[0m \u001b[0;34m-\u001b[0m \u001b[0mright\u001b[0m\u001b[0;34m\u001b[0m\u001b[0;34m\u001b[0m\u001b[0m\n\u001b[1;32m    104\u001b[0m         \u001b[0;32mreturn\u001b[0m \u001b[0m_convert_signed_num\u001b[0m\u001b[0;34m(\u001b[0m\u001b[0mnode\u001b[0m\u001b[0;34m)\u001b[0m\u001b[0;34m\u001b[0m\u001b[0;34m\u001b[0m\u001b[0m\n\u001b[0;32m--> 105\u001b[0;31m     \u001b[0;32mreturn\u001b[0m \u001b[0m_convert\u001b[0m\u001b[0;34m(\u001b[0m\u001b[0mnode_or_string\u001b[0m\u001b[0;34m)\u001b[0m\u001b[0;34m\u001b[0m\u001b[0;34m\u001b[0m\u001b[0m\n\u001b[0m\u001b[1;32m    106\u001b[0m \u001b[0;34m\u001b[0m\u001b[0m\n\u001b[1;32m    107\u001b[0m \u001b[0;34m\u001b[0m\u001b[0m\n",
      "\u001b[0;32m~/miniconda3/lib/python3.9/ast.py\u001b[0m in \u001b[0;36m_convert\u001b[0;34m(node)\u001b[0m\n\u001b[1;32m    102\u001b[0m                 \u001b[0;32melse\u001b[0m\u001b[0;34m:\u001b[0m\u001b[0;34m\u001b[0m\u001b[0;34m\u001b[0m\u001b[0m\n\u001b[1;32m    103\u001b[0m                     \u001b[0;32mreturn\u001b[0m \u001b[0mleft\u001b[0m \u001b[0;34m-\u001b[0m \u001b[0mright\u001b[0m\u001b[0;34m\u001b[0m\u001b[0;34m\u001b[0m\u001b[0m\n\u001b[0;32m--> 104\u001b[0;31m         \u001b[0;32mreturn\u001b[0m \u001b[0m_convert_signed_num\u001b[0m\u001b[0;34m(\u001b[0m\u001b[0mnode\u001b[0m\u001b[0;34m)\u001b[0m\u001b[0;34m\u001b[0m\u001b[0;34m\u001b[0m\u001b[0m\n\u001b[0m\u001b[1;32m    105\u001b[0m     \u001b[0;32mreturn\u001b[0m \u001b[0m_convert\u001b[0m\u001b[0;34m(\u001b[0m\u001b[0mnode_or_string\u001b[0m\u001b[0;34m)\u001b[0m\u001b[0;34m\u001b[0m\u001b[0;34m\u001b[0m\u001b[0m\n\u001b[1;32m    106\u001b[0m \u001b[0;34m\u001b[0m\u001b[0m\n",
      "\u001b[0;32m~/miniconda3/lib/python3.9/ast.py\u001b[0m in \u001b[0;36m_convert_signed_num\u001b[0;34m(node)\u001b[0m\n\u001b[1;32m     76\u001b[0m             \u001b[0;32melse\u001b[0m\u001b[0;34m:\u001b[0m\u001b[0;34m\u001b[0m\u001b[0;34m\u001b[0m\u001b[0m\n\u001b[1;32m     77\u001b[0m                 \u001b[0;32mreturn\u001b[0m \u001b[0;34m-\u001b[0m \u001b[0moperand\u001b[0m\u001b[0;34m\u001b[0m\u001b[0;34m\u001b[0m\u001b[0m\n\u001b[0;32m---> 78\u001b[0;31m         \u001b[0;32mreturn\u001b[0m \u001b[0m_convert_num\u001b[0m\u001b[0;34m(\u001b[0m\u001b[0mnode\u001b[0m\u001b[0;34m)\u001b[0m\u001b[0;34m\u001b[0m\u001b[0;34m\u001b[0m\u001b[0m\n\u001b[0m\u001b[1;32m     79\u001b[0m     \u001b[0;32mdef\u001b[0m \u001b[0m_convert\u001b[0m\u001b[0;34m(\u001b[0m\u001b[0mnode\u001b[0m\u001b[0;34m)\u001b[0m\u001b[0;34m:\u001b[0m\u001b[0;34m\u001b[0m\u001b[0;34m\u001b[0m\u001b[0m\n\u001b[1;32m     80\u001b[0m         \u001b[0;32mif\u001b[0m \u001b[0misinstance\u001b[0m\u001b[0;34m(\u001b[0m\u001b[0mnode\u001b[0m\u001b[0;34m,\u001b[0m \u001b[0mConstant\u001b[0m\u001b[0;34m)\u001b[0m\u001b[0;34m:\u001b[0m\u001b[0;34m\u001b[0m\u001b[0;34m\u001b[0m\u001b[0m\n",
      "\u001b[0;32m~/miniconda3/lib/python3.9/ast.py\u001b[0m in \u001b[0;36m_convert_num\u001b[0;34m(node)\u001b[0m\n\u001b[1;32m     67\u001b[0m     \u001b[0;32mdef\u001b[0m \u001b[0m_convert_num\u001b[0m\u001b[0;34m(\u001b[0m\u001b[0mnode\u001b[0m\u001b[0;34m)\u001b[0m\u001b[0;34m:\u001b[0m\u001b[0;34m\u001b[0m\u001b[0;34m\u001b[0m\u001b[0m\n\u001b[1;32m     68\u001b[0m         \u001b[0;32mif\u001b[0m \u001b[0;32mnot\u001b[0m \u001b[0misinstance\u001b[0m\u001b[0;34m(\u001b[0m\u001b[0mnode\u001b[0m\u001b[0;34m,\u001b[0m \u001b[0mConstant\u001b[0m\u001b[0;34m)\u001b[0m \u001b[0;32mor\u001b[0m \u001b[0mtype\u001b[0m\u001b[0;34m(\u001b[0m\u001b[0mnode\u001b[0m\u001b[0;34m.\u001b[0m\u001b[0mvalue\u001b[0m\u001b[0;34m)\u001b[0m \u001b[0;32mnot\u001b[0m \u001b[0;32min\u001b[0m \u001b[0;34m(\u001b[0m\u001b[0mint\u001b[0m\u001b[0;34m,\u001b[0m \u001b[0mfloat\u001b[0m\u001b[0;34m,\u001b[0m \u001b[0mcomplex\u001b[0m\u001b[0;34m)\u001b[0m\u001b[0;34m:\u001b[0m\u001b[0;34m\u001b[0m\u001b[0;34m\u001b[0m\u001b[0m\n\u001b[0;32m---> 69\u001b[0;31m             \u001b[0m_raise_malformed_node\u001b[0m\u001b[0;34m(\u001b[0m\u001b[0mnode\u001b[0m\u001b[0;34m)\u001b[0m\u001b[0;34m\u001b[0m\u001b[0;34m\u001b[0m\u001b[0m\n\u001b[0m\u001b[1;32m     70\u001b[0m         \u001b[0;32mreturn\u001b[0m \u001b[0mnode\u001b[0m\u001b[0;34m.\u001b[0m\u001b[0mvalue\u001b[0m\u001b[0;34m\u001b[0m\u001b[0;34m\u001b[0m\u001b[0m\n\u001b[1;32m     71\u001b[0m     \u001b[0;32mdef\u001b[0m \u001b[0m_convert_signed_num\u001b[0m\u001b[0;34m(\u001b[0m\u001b[0mnode\u001b[0m\u001b[0;34m)\u001b[0m\u001b[0;34m:\u001b[0m\u001b[0;34m\u001b[0m\u001b[0;34m\u001b[0m\u001b[0m\n",
      "\u001b[0;32m~/miniconda3/lib/python3.9/ast.py\u001b[0m in \u001b[0;36m_raise_malformed_node\u001b[0;34m(node)\u001b[0m\n\u001b[1;32m     64\u001b[0m         \u001b[0mnode_or_string\u001b[0m \u001b[0;34m=\u001b[0m \u001b[0mnode_or_string\u001b[0m\u001b[0;34m.\u001b[0m\u001b[0mbody\u001b[0m\u001b[0;34m\u001b[0m\u001b[0;34m\u001b[0m\u001b[0m\n\u001b[1;32m     65\u001b[0m     \u001b[0;32mdef\u001b[0m \u001b[0m_raise_malformed_node\u001b[0m\u001b[0;34m(\u001b[0m\u001b[0mnode\u001b[0m\u001b[0;34m)\u001b[0m\u001b[0;34m:\u001b[0m\u001b[0;34m\u001b[0m\u001b[0;34m\u001b[0m\u001b[0m\n\u001b[0;32m---> 66\u001b[0;31m         \u001b[0;32mraise\u001b[0m \u001b[0mValueError\u001b[0m\u001b[0;34m(\u001b[0m\u001b[0;34mf'malformed node or string: {node!r}'\u001b[0m\u001b[0;34m)\u001b[0m\u001b[0;34m\u001b[0m\u001b[0;34m\u001b[0m\u001b[0m\n\u001b[0m\u001b[1;32m     67\u001b[0m     \u001b[0;32mdef\u001b[0m \u001b[0m_convert_num\u001b[0m\u001b[0;34m(\u001b[0m\u001b[0mnode\u001b[0m\u001b[0;34m)\u001b[0m\u001b[0;34m:\u001b[0m\u001b[0;34m\u001b[0m\u001b[0;34m\u001b[0m\u001b[0m\n\u001b[1;32m     68\u001b[0m         \u001b[0;32mif\u001b[0m \u001b[0;32mnot\u001b[0m \u001b[0misinstance\u001b[0m\u001b[0;34m(\u001b[0m\u001b[0mnode\u001b[0m\u001b[0;34m,\u001b[0m \u001b[0mConstant\u001b[0m\u001b[0;34m)\u001b[0m \u001b[0;32mor\u001b[0m \u001b[0mtype\u001b[0m\u001b[0;34m(\u001b[0m\u001b[0mnode\u001b[0m\u001b[0;34m.\u001b[0m\u001b[0mvalue\u001b[0m\u001b[0;34m)\u001b[0m \u001b[0;32mnot\u001b[0m \u001b[0;32min\u001b[0m \u001b[0;34m(\u001b[0m\u001b[0mint\u001b[0m\u001b[0;34m,\u001b[0m \u001b[0mfloat\u001b[0m\u001b[0;34m,\u001b[0m \u001b[0mcomplex\u001b[0m\u001b[0;34m)\u001b[0m\u001b[0;34m:\u001b[0m\u001b[0;34m\u001b[0m\u001b[0;34m\u001b[0m\u001b[0m\n",
      "\u001b[0;31mValueError\u001b[0m: malformed node or string: <ast.Call object at 0x7fb62abeca60>"
     ]
    }
   ],
   "source": [
    "ast.literal_eval(\"print('hi')\")"
   ]
  },
  {
   "cell_type": "code",
   "execution_count": null,
   "id": "3f9bfdc2",
   "metadata": {},
   "outputs": [],
   "source": [
    "isinstance + int\n",
    "ast.literal_eval"
   ]
  },
  {
   "cell_type": "code",
   "execution_count": null,
   "id": "8a917787",
   "metadata": {},
   "outputs": [],
   "source": []
  },
  {
   "cell_type": "code",
   "execution_count": 202,
   "id": "ccc8ad28",
   "metadata": {},
   "outputs": [
    {
     "name": "stdout",
     "output_type": "stream",
     "text": [
      "enter total no.5\n",
      "enter nos.[1, -3, 2, 10, 12]\n"
     ]
    }
   ],
   "source": [
    "l = ast.literal_eval(input(\"enter nos.\"))"
   ]
  },
  {
   "cell_type": "code",
   "execution_count": 203,
   "id": "3a1b8348",
   "metadata": {},
   "outputs": [
    {
     "data": {
      "text/plain": [
       "[1, -3, 2, 10, 12]"
      ]
     },
     "execution_count": 203,
     "metadata": {},
     "output_type": "execute_result"
    }
   ],
   "source": [
    "l"
   ]
  },
  {
   "cell_type": "code",
   "execution_count": null,
   "id": "4095393e",
   "metadata": {},
   "outputs": [],
   "source": []
  },
  {
   "cell_type": "code",
   "execution_count": 205,
   "id": "84e36d1b",
   "metadata": {},
   "outputs": [
    {
     "data": {
      "text/plain": [
       "9"
      ]
     },
     "execution_count": 205,
     "metadata": {},
     "output_type": "execute_result"
    }
   ],
   "source": [
    "(lambda x: x**2)(3)"
   ]
  },
  {
   "cell_type": "code",
   "execution_count": 206,
   "id": "92455b56",
   "metadata": {},
   "outputs": [
    {
     "data": {
      "text/plain": [
       "9"
      ]
     },
     "execution_count": 206,
     "metadata": {},
     "output_type": "execute_result"
    }
   ],
   "source": [
    "s = lambda x: x**2\n",
    "s(3)"
   ]
  },
  {
   "cell_type": "code",
   "execution_count": null,
   "id": "df7cec6f",
   "metadata": {},
   "outputs": [],
   "source": []
  },
  {
   "cell_type": "code",
   "execution_count": 94,
   "id": "d5b320d0",
   "metadata": {},
   "outputs": [
    {
     "name": "stdout",
     "output_type": "stream",
     "text": [
      "hi\n",
      "None\n"
     ]
    }
   ],
   "source": [
    "def f():\n",
    "    print(\"hi\")\n",
    "    \n",
    "x = f()\n",
    "print(x)"
   ]
  },
  {
   "cell_type": "code",
   "execution_count": null,
   "id": "96a2d2cf",
   "metadata": {},
   "outputs": [],
   "source": [
    "# def f(a):\n",
    "    ..\n",
    "    \n",
    "def f(a, b):\n",
    "    ...\n",
    "    \n",
    "# def f(c):\n",
    "    ..."
   ]
  },
  {
   "cell_type": "code",
   "execution_count": null,
   "id": "fac6cacf",
   "metadata": {},
   "outputs": [],
   "source": [
    "def outerFun(a, b): # a=5, b=10\n",
    "    def innerFun(c, d): # c=5, b=10\n",
    "        return c + d # return 15\n",
    "    \n",
    "    return innerFun(a, b) # return iF(5, 10) -> return 15\n",
    "    return a # this never gets executed\n",
    "\n",
    "result = outerFun(5, 10)\n",
    "print(result)"
   ]
  },
  {
   "cell_type": "code",
   "execution_count": 97,
   "id": "bb25daa1",
   "metadata": {},
   "outputs": [
    {
     "name": "stdout",
     "output_type": "stream",
     "text": [
      "emp Kelly\n",
      "salary 9000\n"
     ]
    }
   ],
   "source": [
    "def display(**kwargs): # dict\n",
    "    for i in kwargs:\n",
    "        print(i, kwargs[i])\n",
    "display(emp=\"Kelly\", salary=9000)"
   ]
  },
  {
   "cell_type": "code",
   "execution_count": 98,
   "id": "2c72cf90",
   "metadata": {},
   "outputs": [
    {
     "name": "stdout",
     "output_type": "stream",
     "text": [
      "1 one\n",
      "2 two\n"
     ]
    }
   ],
   "source": [
    "d = {1: \"one\", 2: \"two\"}\n",
    "for k in d:\n",
    "    print(k, d[k])"
   ]
  },
  {
   "cell_type": "code",
   "execution_count": 99,
   "id": "4f78ddfc",
   "metadata": {},
   "outputs": [],
   "source": [
    "x = [12, 34, 12, 11, -5, 0]\n",
    "y = sorted(x) # x.sort()"
   ]
  },
  {
   "cell_type": "code",
   "execution_count": 100,
   "id": "db4ba082",
   "metadata": {},
   "outputs": [
    {
     "name": "stdout",
     "output_type": "stream",
     "text": [
      "[12, 34, 12, 11, -5, 0]\n"
     ]
    }
   ],
   "source": [
    "print(x)"
   ]
  },
  {
   "cell_type": "code",
   "execution_count": 101,
   "id": "3535fcf4",
   "metadata": {},
   "outputs": [
    {
     "name": "stdout",
     "output_type": "stream",
     "text": [
      "[-5, 0, 11, 12, 12, 34]\n"
     ]
    }
   ],
   "source": [
    "print(y)"
   ]
  },
  {
   "cell_type": "code",
   "execution_count": 102,
   "id": "55ce78a5",
   "metadata": {},
   "outputs": [
    {
     "name": "stdout",
     "output_type": "stream",
     "text": [
      "10\n",
      "4\n",
      "10\n"
     ]
    }
   ],
   "source": [
    "x = 10 \n",
    "\n",
    "def f():\n",
    "    x = 4 # local x\n",
    "#     x += 1\n",
    "    print(x) # 4\n",
    "    \n",
    "print(x) # 10\n",
    "f() \n",
    "print(x) # 10"
   ]
  },
  {
   "cell_type": "code",
   "execution_count": 103,
   "id": "bdf5d0bd",
   "metadata": {},
   "outputs": [
    {
     "name": "stdout",
     "output_type": "stream",
     "text": [
      "10\n",
      "4\n",
      "4\n"
     ]
    }
   ],
   "source": [
    "x = 10 \n",
    "\n",
    "def f():\n",
    "    global x # This has a very restricted use, almost NEVER write such code\n",
    "    x = 4 # global x\n",
    "    print(x) # 4\n",
    "    \n",
    "print(x) # 10\n",
    "f()\n",
    "print(x) # 4"
   ]
  },
  {
   "cell_type": "code",
   "execution_count": null,
   "id": "526ce4e7",
   "metadata": {},
   "outputs": [],
   "source": [
    "PBR v/s global variables\n",
    "PBR:-\n",
    "    * you want to provide access of that data to another function\n",
    "    * you want to update the data in that variable (that we PBR) # on purpose\n",
    "            x = f(x.copy()) # list # 1:1 fun call -> fun exec\n",
    "\n",
    "GV:-\n",
    "    * You are updating the data without having a trace from the point where its updated"
   ]
  },
  {
   "cell_type": "code",
   "execution_count": null,
   "id": "3b0569db",
   "metadata": {},
   "outputs": [],
   "source": []
  }
 ],
 "metadata": {
  "kernelspec": {
   "display_name": "Python 3 (ipykernel)",
   "language": "python",
   "name": "python3"
  },
  "language_info": {
   "codemirror_mode": {
    "name": "ipython",
    "version": 3
   },
   "file_extension": ".py",
   "mimetype": "text/x-python",
   "name": "python",
   "nbconvert_exporter": "python",
   "pygments_lexer": "ipython3",
   "version": "3.9.5"
  }
 },
 "nbformat": 4,
 "nbformat_minor": 5
}
