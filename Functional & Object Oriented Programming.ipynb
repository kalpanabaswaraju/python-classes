{
 "cells": [
  {
   "cell_type": "code",
   "execution_count": null,
   "id": "bc3c7d95",
   "metadata": {},
   "outputs": [],
   "source": [
    "# while <cond1> and i < l:\n",
    "#     ...\n",
    "    \n",
    "# if i<l:\n",
    "#     ..."
   ]
  },
  {
   "cell_type": "code",
   "execution_count": 3,
   "id": "12c9e3c2",
   "metadata": {},
   "outputs": [],
   "source": [
    "# d = {{1:\"one\"}: \"ONE\"}"
   ]
  },
  {
   "cell_type": "markdown",
   "id": "86f762a5",
   "metadata": {},
   "source": [
    "Packing and Unpacking:-"
   ]
  },
  {
   "cell_type": "code",
   "execution_count": 5,
   "id": "1c351bf2",
   "metadata": {},
   "outputs": [],
   "source": [
    "# Unpacking:-\n",
    "# * Deconstruct a sequence type into primitive/sequence types\n",
    "\n",
    "l = [1, 2, 3] # tuple\n",
    "a, b, c = l"
   ]
  },
  {
   "cell_type": "code",
   "execution_count": 6,
   "id": "2a4ff23d",
   "metadata": {},
   "outputs": [
    {
     "data": {
      "text/plain": [
       "(1, 2, 3)"
      ]
     },
     "execution_count": 6,
     "metadata": {},
     "output_type": "execute_result"
    }
   ],
   "source": [
    "a, b, c"
   ]
  },
  {
   "cell_type": "code",
   "execution_count": 7,
   "id": "bb9d5921",
   "metadata": {},
   "outputs": [],
   "source": [
    "l = [10, 20, 30, [1, 2, 3]]\n",
    "a, b, c, d = l"
   ]
  },
  {
   "cell_type": "code",
   "execution_count": 8,
   "id": "f9b870cd",
   "metadata": {},
   "outputs": [
    {
     "data": {
      "text/plain": [
       "(10, 20, 30, [1, 2, 3])"
      ]
     },
     "execution_count": 8,
     "metadata": {},
     "output_type": "execute_result"
    }
   ],
   "source": [
    "a, b, c, d"
   ]
  },
  {
   "cell_type": "code",
   "execution_count": 9,
   "id": "2710434a",
   "metadata": {},
   "outputs": [
    {
     "ename": "ValueError",
     "evalue": "too many values to unpack (expected 3)",
     "output_type": "error",
     "traceback": [
      "\u001b[0;31m---------------------------------------------------------------------------\u001b[0m",
      "\u001b[0;31mValueError\u001b[0m                                Traceback (most recent call last)",
      "\u001b[0;32m/var/folders/wx/bxxcv1hd2fn6pgpvlymttc680000gn/T/ipykernel_42577/683011250.py\u001b[0m in \u001b[0;36m<module>\u001b[0;34m\u001b[0m\n\u001b[1;32m      1\u001b[0m \u001b[0ml\u001b[0m \u001b[0;34m=\u001b[0m \u001b[0;34m[\u001b[0m\u001b[0;36m10\u001b[0m\u001b[0;34m,\u001b[0m \u001b[0;36m20\u001b[0m\u001b[0;34m,\u001b[0m \u001b[0;36m30\u001b[0m\u001b[0;34m,\u001b[0m \u001b[0;34m[\u001b[0m\u001b[0;36m1\u001b[0m\u001b[0;34m,\u001b[0m \u001b[0;36m2\u001b[0m\u001b[0;34m,\u001b[0m \u001b[0;36m3\u001b[0m\u001b[0;34m]\u001b[0m\u001b[0;34m]\u001b[0m\u001b[0;34m\u001b[0m\u001b[0;34m\u001b[0m\u001b[0m\n\u001b[0;32m----> 2\u001b[0;31m \u001b[0ma\u001b[0m\u001b[0;34m,\u001b[0m \u001b[0mb\u001b[0m\u001b[0;34m,\u001b[0m \u001b[0mc\u001b[0m \u001b[0;34m=\u001b[0m \u001b[0ml\u001b[0m \u001b[0;31m# a=10, b=20, c=T/L\u001b[0m\u001b[0;34m\u001b[0m\u001b[0;34m\u001b[0m\u001b[0m\n\u001b[0m",
      "\u001b[0;31mValueError\u001b[0m: too many values to unpack (expected 3)"
     ]
    }
   ],
   "source": [
    "l = [10, 20, 30, [1, 2, 3]]\n",
    "a, b, c = l # a=10, b=20, c=T/L?"
   ]
  },
  {
   "cell_type": "code",
   "execution_count": 10,
   "id": "77b02eb8",
   "metadata": {},
   "outputs": [],
   "source": [
    "l = [[10, 20, 30], [1, 2, 3], {1: \"one\"}]\n",
    "a, b, c = l"
   ]
  },
  {
   "cell_type": "code",
   "execution_count": 11,
   "id": "89e33b0c",
   "metadata": {},
   "outputs": [
    {
     "data": {
      "text/plain": [
       "([10, 20, 30], [1, 2, 3], {1: 'one'})"
      ]
     },
     "execution_count": 11,
     "metadata": {},
     "output_type": "execute_result"
    }
   ],
   "source": [
    "a, b, c"
   ]
  },
  {
   "cell_type": "code",
   "execution_count": 12,
   "id": "842d7eb8",
   "metadata": {},
   "outputs": [],
   "source": [
    "l = [[10, 20, 30], [1, 2, 3], {1: \"one\"}]\n",
    "a, _, c = l # to ignore any value use underscore in LHS"
   ]
  },
  {
   "cell_type": "code",
   "execution_count": 13,
   "id": "26901e26",
   "metadata": {},
   "outputs": [
    {
     "data": {
      "text/plain": [
       "([10, 20, 30], {1: 'one'})"
      ]
     },
     "execution_count": 13,
     "metadata": {},
     "output_type": "execute_result"
    }
   ],
   "source": [
    "a, c"
   ]
  },
  {
   "cell_type": "code",
   "execution_count": 14,
   "id": "3421d858",
   "metadata": {},
   "outputs": [],
   "source": [
    "a_prime = l[0]"
   ]
  },
  {
   "cell_type": "code",
   "execution_count": 15,
   "id": "7b715953",
   "metadata": {},
   "outputs": [
    {
     "data": {
      "text/plain": [
       "True"
      ]
     },
     "execution_count": 15,
     "metadata": {},
     "output_type": "execute_result"
    }
   ],
   "source": [
    "a is a_prime"
   ]
  },
  {
   "cell_type": "code",
   "execution_count": 16,
   "id": "7701db72",
   "metadata": {},
   "outputs": [],
   "source": [
    "l = [10, 20, 30, [1, 2, 3]]\n",
    "a, b, c = l[1:]"
   ]
  },
  {
   "cell_type": "code",
   "execution_count": 17,
   "id": "1f4856e8",
   "metadata": {},
   "outputs": [
    {
     "data": {
      "text/plain": [
       "(20, 30, [1, 2, 3])"
      ]
     },
     "execution_count": 17,
     "metadata": {},
     "output_type": "execute_result"
    }
   ],
   "source": [
    "a, b, c"
   ]
  },
  {
   "cell_type": "code",
   "execution_count": null,
   "id": "5cf56745",
   "metadata": {},
   "outputs": [],
   "source": []
  },
  {
   "cell_type": "code",
   "execution_count": null,
   "id": "e2d86db8",
   "metadata": {},
   "outputs": [],
   "source": [
    "# Packing:-\n",
    "\n",
    "array type sequences (list, tuple (set?)) - they are 1D sequence type\n",
    "* C -> pointers -> * -> to point to the memory location of the data"
   ]
  },
  {
   "cell_type": "code",
   "execution_count": 37,
   "id": "16860b9a",
   "metadata": {},
   "outputs": [
    {
     "name": "stdout",
     "output_type": "stream",
     "text": [
      "2.0\n",
      "1.0\n",
      "3.1\n"
     ]
    }
   ],
   "source": [
    "# list, tuple -> *\n",
    "# dict -> **\n",
    "\n",
    "def mean(*l): # dynamic - no. of elements it accepts is dynamic\n",
    "#     print(type(l)) # why is l not a list?\n",
    "    return (sum(l)*1.0)/len(l)\n",
    "    \n",
    "print(mean(1, 2, 3))\n",
    "print(mean(1))\n",
    "print(mean(1, 2, 3, 4.5, 5))"
   ]
  },
  {
   "cell_type": "code",
   "execution_count": 20,
   "id": "de2594ed",
   "metadata": {},
   "outputs": [
    {
     "name": "stdout",
     "output_type": "stream",
     "text": [
      "True\n",
      "True\n",
      "False\n"
     ]
    }
   ],
   "source": [
    "def mean(threshold, *l): # (*l, threshold, ...) - NO NO\n",
    "    m = (sum(l)*1.0)/len(l)\n",
    "    if m >= threshold:\n",
    "        return True\n",
    "    return False\n",
    "\n",
    "print(mean(1.5, 1, 2, 3))\n",
    "print(mean(2.0, 1, 2, 3))\n",
    "print(mean(3.5, 1, 2, 3))\n",
    "\n",
    "# print(mean(1))\n",
    "# print(mean(1, 2, 3, 4, 5))"
   ]
  },
  {
   "cell_type": "code",
   "execution_count": 40,
   "id": "5461c7fd",
   "metadata": {},
   "outputs": [
    {
     "name": "stdout",
     "output_type": "stream",
     "text": [
      "3.5\n",
      "6.0\n",
      "2.0\n"
     ]
    }
   ],
   "source": [
    "# [[1, 2, 3], -> [2.0, 5.0] -> 3.5\n",
    "#  [4, 5, 6],]       temp\n",
    "\n",
    "\n",
    "# def mean_2d(*l):\n",
    "#     temp = [sum(x)/len(x) for x in l]\n",
    "#     return sum(temp)/(len(temp))\n",
    "\n",
    "def mean(*v): # dynamic - no. of elements it accepts is dynamic\n",
    "    return (sum(v)*1.0)/len(v)\n",
    "\n",
    "def mean_2d(*l):\n",
    "    temp = [mean(*x) for x in l] # mean(x) -> mean([1,2,3]) -> Error -> mean(1, 2, 3)\n",
    "    return mean(*temp)\n",
    "\n",
    "\n",
    "l1 = [1, 2, 3]\n",
    "l2 = [4, 5, 6]\n",
    "l3 = [10, 11, 12]\n",
    "print(mean_2d(l1, l2))\n",
    "print(mean_2d(l1, l2, l3))\n",
    "print(mean_2d(l1))"
   ]
  },
  {
   "cell_type": "code",
   "execution_count": null,
   "id": "39071fa5",
   "metadata": {},
   "outputs": [],
   "source": []
  },
  {
   "cell_type": "code",
   "execution_count": 42,
   "id": "9ee7b88f",
   "metadata": {},
   "outputs": [
    {
     "name": "stdout",
     "output_type": "stream",
     "text": [
      "Virat : Captain\n",
      "MS : Keeper\n"
     ]
    }
   ],
   "source": [
    "def msg(**d):\n",
    "    for k, v in d.items():\n",
    "        print(k, \":\", v)\n",
    "\n",
    "msg(Virat=\"Captain\", MS=\"Keeper\") # dict(a=1,b=2) ..."
   ]
  },
  {
   "cell_type": "code",
   "execution_count": null,
   "id": "cf787a5f",
   "metadata": {},
   "outputs": [],
   "source": [
    "# def f(a, b):\n",
    "#     ...\n",
    "    \n",
    "# f(a=1, b=2) # Ok\n",
    "# f(\"a\"=1, \"b\"=2) # NONO"
   ]
  },
  {
   "cell_type": "code",
   "execution_count": 47,
   "id": "6c8d40df",
   "metadata": {},
   "outputs": [
    {
     "name": "stdout",
     "output_type": "stream",
     "text": [
      "1 2\n"
     ]
    }
   ],
   "source": [
    "info = {\"x\": 1, \"y\": 2}\n",
    "\n",
    "def msg2(x, y):\n",
    "    print(x, y)\n",
    "    \n",
    "msg2(**info) # x=1, y=2\n",
    "msg2(x=1, y=2) # EQUAL"
   ]
  },
  {
   "cell_type": "code",
   "execution_count": 52,
   "id": "c7e97ea1",
   "metadata": {},
   "outputs": [],
   "source": [
    "# ALL Errors\n",
    "# print(x=1, y=2)\n",
    "# str(x=1, y=2)\n",
    "# str(**info)\n",
    "# print(**info)"
   ]
  },
  {
   "cell_type": "code",
   "execution_count": 51,
   "id": "de55931a",
   "metadata": {},
   "outputs": [],
   "source": [
    "# def f(a:int, b:float, c:str, *l, **d): # Exercise"
   ]
  },
  {
   "cell_type": "code",
   "execution_count": null,
   "id": "58499bb3",
   "metadata": {},
   "outputs": [],
   "source": []
  },
  {
   "cell_type": "code",
   "execution_count": 53,
   "id": "8ab9955e",
   "metadata": {},
   "outputs": [
    {
     "data": {
      "text/plain": [
       "(2, 3)"
      ]
     },
     "execution_count": 53,
     "metadata": {},
     "output_type": "execute_result"
    }
   ],
   "source": [
    "a, b = 2, 3\n",
    "a, b"
   ]
  },
  {
   "cell_type": "code",
   "execution_count": 54,
   "id": "a6bdbf2b",
   "metadata": {},
   "outputs": [
    {
     "data": {
      "text/plain": [
       "(2, (3, 1, 3))"
      ]
     },
     "execution_count": 54,
     "metadata": {},
     "output_type": "execute_result"
    }
   ],
   "source": [
    "a, b = 2, (3, 1, 3)\n",
    "a, b"
   ]
  },
  {
   "cell_type": "code",
   "execution_count": 57,
   "id": "bddd7bc7",
   "metadata": {},
   "outputs": [
    {
     "data": {
      "text/plain": [
       "(2, 3, 1)"
      ]
     },
     "execution_count": 57,
     "metadata": {},
     "output_type": "execute_result"
    }
   ],
   "source": [
    "a, b, c = 2, *(3, 1)\n",
    "a, b, c"
   ]
  },
  {
   "cell_type": "code",
   "execution_count": 58,
   "id": "a5b103bd",
   "metadata": {},
   "outputs": [
    {
     "data": {
      "text/plain": [
       "(10, 20, [30, 40])"
      ]
     },
     "execution_count": 58,
     "metadata": {},
     "output_type": "execute_result"
    }
   ],
   "source": [
    "a, b, *c = 10, 20, 30, 40\n",
    "a, b, c"
   ]
  },
  {
   "cell_type": "code",
   "execution_count": 59,
   "id": "83d3afbf",
   "metadata": {},
   "outputs": [
    {
     "data": {
      "text/plain": [
       "list"
      ]
     },
     "execution_count": 59,
     "metadata": {},
     "output_type": "execute_result"
    }
   ],
   "source": [
    "type(c) # Why list, and not tuple?"
   ]
  },
  {
   "cell_type": "code",
   "execution_count": 61,
   "id": "7adbc5b1",
   "metadata": {},
   "outputs": [
    {
     "data": {
      "text/plain": [
       "(10, 20, [[30, 40]])"
      ]
     },
     "execution_count": 61,
     "metadata": {},
     "output_type": "execute_result"
    }
   ],
   "source": [
    "a, b, *c = 10, 20, [30, 40]\n",
    "a, b, c"
   ]
  },
  {
   "cell_type": "code",
   "execution_count": 62,
   "id": "c27d9d44",
   "metadata": {},
   "outputs": [
    {
     "data": {
      "text/plain": [
       "[30, 40]"
      ]
     },
     "execution_count": 62,
     "metadata": {},
     "output_type": "execute_result"
    }
   ],
   "source": [
    "a, b, c = 10, 20, [30, 40]\n",
    "c"
   ]
  },
  {
   "cell_type": "code",
   "execution_count": null,
   "id": "564735ad",
   "metadata": {},
   "outputs": [],
   "source": []
  },
  {
   "cell_type": "code",
   "execution_count": null,
   "id": "2531b04f",
   "metadata": {},
   "outputs": [],
   "source": []
  },
  {
   "cell_type": "code",
   "execution_count": null,
   "id": "d5bc2805",
   "metadata": {},
   "outputs": [],
   "source": [
    "Functional Programming:-\n",
    "* It is a programming paradigm\n"
   ]
  },
  {
   "cell_type": "code",
   "execution_count": null,
   "id": "3132ddf4",
   "metadata": {},
   "outputs": [],
   "source": []
  }
 ],
 "metadata": {
  "kernelspec": {
   "display_name": "Python 3 (ipykernel)",
   "language": "python",
   "name": "python3"
  },
  "language_info": {
   "codemirror_mode": {
    "name": "ipython",
    "version": 3
   },
   "file_extension": ".py",
   "mimetype": "text/x-python",
   "name": "python",
   "nbconvert_exporter": "python",
   "pygments_lexer": "ipython3",
   "version": "3.9.5"
  }
 },
 "nbformat": 4,
 "nbformat_minor": 5
}
